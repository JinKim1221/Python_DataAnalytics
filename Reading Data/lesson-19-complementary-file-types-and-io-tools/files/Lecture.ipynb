{
 "cells": [
  {
   "cell_type": "markdown",
   "metadata": {},
   "source": [
    "![rmotr](https://user-images.githubusercontent.com/7065401/52071918-bda15380-2562-11e9-828c-7f95297e4a82.png)\n",
    "<hr style=\"margin-bottom: 40px;\">\n",
    "\n",
    "<img src=\"https://user-images.githubusercontent.com/7065401/68501079-0695df00-023c-11ea-841f-455dac84a089.jpg\"\n",
    "    style=\"width:400px; float: right; margin: 0 40px 40px 40px;\"></img>\n",
    "\n",
    "# Complementary file types and IO tools\n",
    "\n",
    "The pandas I/O API has a set of top level functions to let us work with a wide variety of file types.\n",
    "\n",
    "In this lesson we'll show some file types pandas can work with besides the most known CSV, JSON and XLSX types."
   ]
  },
  {
   "cell_type": "markdown",
   "metadata": {},
   "source": [
    "![purple-divider](https://user-images.githubusercontent.com/7065401/52071927-c1cd7100-2562-11e9-908a-dde91ba14e59.png)\n",
    "\n",
    "## Hands on! "
   ]
  },
  {
   "cell_type": "code",
   "execution_count": 1,
   "metadata": {},
   "outputs": [],
   "source": [
    "import pandas as pd"
   ]
  },
  {
   "cell_type": "markdown",
   "metadata": {},
   "source": [
    "![green-divider](https://user-images.githubusercontent.com/7065401/52071924-c003ad80-2562-11e9-8297-1c6595f8a7ff.png)\n",
    "\n",
    "## Pickling\n",
    "\n",
    "When it comes to something like machine learning, after training your models, these models can't be saved to a .txt or .csv file, becouse it's an object with complex binary data.\n",
    "\n",
    "Luckily, in programming, there are various terms for the process of saving binary data to a file that can be accessed later. In Python, this is called **pickling**. You may know it as serialization, or maybe even something else.\n",
    "\n",
    "For our lucky, pandas handles _pickles_ in its IO module, and all pandas objects are equipped with the `to_pickle` and `read_pickle` methods."
   ]
  },
  {
   "cell_type": "code",
   "execution_count": 2,
   "metadata": {},
   "outputs": [
    {
     "data": {
      "text/html": [
       "<div>\n",
       "<style scoped>\n",
       "    .dataframe tbody tr th:only-of-type {\n",
       "        vertical-align: middle;\n",
       "    }\n",
       "\n",
       "    .dataframe tbody tr th {\n",
       "        vertical-align: top;\n",
       "    }\n",
       "\n",
       "    .dataframe thead th {\n",
       "        text-align: right;\n",
       "    }\n",
       "</style>\n",
       "<table border=\"1\" class=\"dataframe\">\n",
       "  <thead>\n",
       "    <tr style=\"text-align: right;\">\n",
       "      <th></th>\n",
       "      <th>A</th>\n",
       "      <th>B</th>\n",
       "      <th>C</th>\n",
       "    </tr>\n",
       "  </thead>\n",
       "  <tbody>\n",
       "    <tr>\n",
       "      <th>0</th>\n",
       "      <td>1</td>\n",
       "      <td>2</td>\n",
       "      <td>3</td>\n",
       "    </tr>\n",
       "    <tr>\n",
       "      <th>1</th>\n",
       "      <td>4</td>\n",
       "      <td>5</td>\n",
       "      <td>6</td>\n",
       "    </tr>\n",
       "  </tbody>\n",
       "</table>\n",
       "</div>"
      ],
      "text/plain": [
       "   A  B  C\n",
       "0  1  2  3\n",
       "1  4  5  6"
      ]
     },
     "execution_count": 2,
     "metadata": {},
     "output_type": "execute_result"
    }
   ],
   "source": [
    "df = pd.DataFrame([[1,2,3], [4,5,6]],\n",
    "                  columns=['A','B','C'])\n",
    "\n",
    "df"
   ]
  },
  {
   "cell_type": "markdown",
   "metadata": {},
   "source": [
    "The `to_pickle` method uses Python's `cPickle` module to save data structures to disk using the pickle format."
   ]
  },
  {
   "cell_type": "code",
   "execution_count": 3,
   "metadata": {},
   "outputs": [],
   "source": [
    "df.to_pickle('out.pkl')"
   ]
  },
  {
   "cell_type": "code",
   "execution_count": 4,
   "metadata": {},
   "outputs": [
    {
     "name": "stderr",
     "output_type": "stream",
     "text": [
      "'cat' is not recognized as an internal or external command,\n",
      "operable program or batch file.\n"
     ]
    }
   ],
   "source": [
    "!cat out.pkl"
   ]
  },
  {
   "cell_type": "markdown",
   "metadata": {},
   "source": [
    "The `read_pickle` method can be used to load any pickled pandas object (or any other pickled object) from file:"
   ]
  },
  {
   "cell_type": "code",
   "execution_count": 5,
   "metadata": {},
   "outputs": [],
   "source": [
    "df = pd.read_pickle('out.pkl')"
   ]
  },
  {
   "cell_type": "code",
   "execution_count": 6,
   "metadata": {
    "scrolled": true
   },
   "outputs": [
    {
     "data": {
      "text/html": [
       "<div>\n",
       "<style scoped>\n",
       "    .dataframe tbody tr th:only-of-type {\n",
       "        vertical-align: middle;\n",
       "    }\n",
       "\n",
       "    .dataframe tbody tr th {\n",
       "        vertical-align: top;\n",
       "    }\n",
       "\n",
       "    .dataframe thead th {\n",
       "        text-align: right;\n",
       "    }\n",
       "</style>\n",
       "<table border=\"1\" class=\"dataframe\">\n",
       "  <thead>\n",
       "    <tr style=\"text-align: right;\">\n",
       "      <th></th>\n",
       "      <th>A</th>\n",
       "      <th>B</th>\n",
       "      <th>C</th>\n",
       "    </tr>\n",
       "  </thead>\n",
       "  <tbody>\n",
       "    <tr>\n",
       "      <th>0</th>\n",
       "      <td>1</td>\n",
       "      <td>2</td>\n",
       "      <td>3</td>\n",
       "    </tr>\n",
       "    <tr>\n",
       "      <th>1</th>\n",
       "      <td>4</td>\n",
       "      <td>5</td>\n",
       "      <td>6</td>\n",
       "    </tr>\n",
       "  </tbody>\n",
       "</table>\n",
       "</div>"
      ],
      "text/plain": [
       "   A  B  C\n",
       "0  1  2  3\n",
       "1  4  5  6"
      ]
     },
     "execution_count": 6,
     "metadata": {},
     "output_type": "execute_result"
    }
   ],
   "source": [
    "df"
   ]
  },
  {
   "cell_type": "markdown",
   "metadata": {},
   "source": [
    "![green-divider](https://user-images.githubusercontent.com/7065401/52071924-c003ad80-2562-11e9-8297-1c6595f8a7ff.png)\n",
    "\n",
    "## Clipboard content\n",
    "\n",
    "A handy way to grab data is to use the `read_clipboard` method, which takes the contents of the clipboard buffer and passes them to the `read_table` method.\n",
    "\n",
    "For instance, you can copy the following text to the clipboard (CTRL-C on many operating systems):\n",
    "\n",
    "```\n",
    "  A B C\n",
    "x 1 4 p\n",
    "y 2 5 q\n",
    "z 3 6 r\n",
    "```\n",
    "\n",
    "And then import the data directly to a `DataFrame` by calling `read_clipboard` method."
   ]
  },
  {
   "cell_type": "code",
   "execution_count": 7,
   "metadata": {},
   "outputs": [],
   "source": [
    "df = pd.read_clipboard()"
   ]
  },
  {
   "cell_type": "code",
   "execution_count": 8,
   "metadata": {},
   "outputs": [
    {
     "data": {
      "text/html": [
       "<div>\n",
       "<style scoped>\n",
       "    .dataframe tbody tr th:only-of-type {\n",
       "        vertical-align: middle;\n",
       "    }\n",
       "\n",
       "    .dataframe tbody tr th {\n",
       "        vertical-align: top;\n",
       "    }\n",
       "\n",
       "    .dataframe thead th {\n",
       "        text-align: right;\n",
       "    }\n",
       "</style>\n",
       "<table border=\"1\" class=\"dataframe\">\n",
       "  <thead>\n",
       "    <tr style=\"text-align: right;\">\n",
       "      <th></th>\n",
       "      <th>https://www.fifaindex.com/players/top/fifa20_363/</th>\n",
       "    </tr>\n",
       "  </thead>\n",
       "  <tbody>\n",
       "  </tbody>\n",
       "</table>\n",
       "</div>"
      ],
      "text/plain": [
       "Empty DataFrame\n",
       "Columns: [https://www.fifaindex.com/players/top/fifa20_363/]\n",
       "Index: []"
      ]
     },
     "execution_count": 8,
     "metadata": {},
     "output_type": "execute_result"
    }
   ],
   "source": [
    "df"
   ]
  },
  {
   "cell_type": "markdown",
   "metadata": {},
   "source": [
    "The `to_clipboard` method can be used to write the contents of a `DataFrame` to the clipboard.\n",
    "\n",
    "Following which you can paste the clipboard contents into other applications (CTRL-V on many operating systems)."
   ]
  },
  {
   "cell_type": "code",
   "execution_count": 9,
   "metadata": {},
   "outputs": [],
   "source": [
    "df.to_clipboard()"
   ]
  },
  {
   "cell_type": "code",
   "execution_count": 10,
   "metadata": {},
   "outputs": [
    {
     "data": {
      "text/html": [
       "<div>\n",
       "<style scoped>\n",
       "    .dataframe tbody tr th:only-of-type {\n",
       "        vertical-align: middle;\n",
       "    }\n",
       "\n",
       "    .dataframe tbody tr th {\n",
       "        vertical-align: top;\n",
       "    }\n",
       "\n",
       "    .dataframe thead th {\n",
       "        text-align: right;\n",
       "    }\n",
       "</style>\n",
       "<table border=\"1\" class=\"dataframe\">\n",
       "  <thead>\n",
       "    <tr style=\"text-align: right;\">\n",
       "      <th></th>\n",
       "      <th>https://www.fifaindex.com/players/top/fifa20_363/</th>\n",
       "    </tr>\n",
       "  </thead>\n",
       "  <tbody>\n",
       "  </tbody>\n",
       "</table>\n",
       "</div>"
      ],
      "text/plain": [
       "Empty DataFrame\n",
       "Columns: [https://www.fifaindex.com/players/top/fifa20_363/]\n",
       "Index: []"
      ]
     },
     "execution_count": 10,
     "metadata": {},
     "output_type": "execute_result"
    }
   ],
   "source": [
    "pd.read_clipboard()"
   ]
  },
  {
   "cell_type": "markdown",
   "metadata": {},
   "source": [
    "We can see that we got the same content back, which we had earlier written to the clipboard."
   ]
  },
  {
   "cell_type": "markdown",
   "metadata": {},
   "source": [
    "![green-divider](https://user-images.githubusercontent.com/7065401/52071924-c003ad80-2562-11e9-8297-1c6595f8a7ff.png)\n",
    "\n",
    "## SAS files\n",
    "\n",
    "The top-level function `read_sas()` can read (but not write) SAS xport (.XPT) and (since v0.18.0) SAS7BDAT (.sas7bdat) format files.\n",
    "\n",
    "SAS files only contain two value types: ASCII text and floating point values (usually 8 bytes but sometimes truncated). For xport files, there is no automatic type conversion to integers, dates, or categoricals. For SAS7BDAT files, the format codes may allow date variables to be automatically converted to dates. By default the whole file is read and returned as a `DataFrame`.\n",
    "\n",
    "We are going to load the `airline.sav7bdat` file into a pandas `DataFrame` using the `read_sas` method."
   ]
  },
  {
   "cell_type": "code",
   "execution_count": 11,
   "metadata": {},
   "outputs": [
    {
     "name": "stderr",
     "output_type": "stream",
     "text": [
      "'cat' is not recognized as an internal or external command,\n",
      "operable program or batch file.\n"
     ]
    }
   ],
   "source": [
    "!cat airline.sas7bdat"
   ]
  },
  {
   "cell_type": "code",
   "execution_count": 12,
   "metadata": {},
   "outputs": [],
   "source": [
    "df = pd.read_sas('airline.sas7bdat')"
   ]
  },
  {
   "cell_type": "code",
   "execution_count": 13,
   "metadata": {},
   "outputs": [
    {
     "data": {
      "text/html": [
       "<div>\n",
       "<style scoped>\n",
       "    .dataframe tbody tr th:only-of-type {\n",
       "        vertical-align: middle;\n",
       "    }\n",
       "\n",
       "    .dataframe tbody tr th {\n",
       "        vertical-align: top;\n",
       "    }\n",
       "\n",
       "    .dataframe thead th {\n",
       "        text-align: right;\n",
       "    }\n",
       "</style>\n",
       "<table border=\"1\" class=\"dataframe\">\n",
       "  <thead>\n",
       "    <tr style=\"text-align: right;\">\n",
       "      <th></th>\n",
       "      <th>YEAR</th>\n",
       "      <th>Y</th>\n",
       "      <th>W</th>\n",
       "      <th>R</th>\n",
       "      <th>L</th>\n",
       "      <th>K</th>\n",
       "    </tr>\n",
       "  </thead>\n",
       "  <tbody>\n",
       "    <tr>\n",
       "      <th>0</th>\n",
       "      <td>1948.0</td>\n",
       "      <td>1.214</td>\n",
       "      <td>0.243</td>\n",
       "      <td>0.1454</td>\n",
       "      <td>1.415</td>\n",
       "      <td>0.612</td>\n",
       "    </tr>\n",
       "    <tr>\n",
       "      <th>1</th>\n",
       "      <td>1949.0</td>\n",
       "      <td>1.354</td>\n",
       "      <td>0.260</td>\n",
       "      <td>0.2181</td>\n",
       "      <td>1.384</td>\n",
       "      <td>0.559</td>\n",
       "    </tr>\n",
       "    <tr>\n",
       "      <th>2</th>\n",
       "      <td>1950.0</td>\n",
       "      <td>1.569</td>\n",
       "      <td>0.278</td>\n",
       "      <td>0.3157</td>\n",
       "      <td>1.388</td>\n",
       "      <td>0.573</td>\n",
       "    </tr>\n",
       "    <tr>\n",
       "      <th>3</th>\n",
       "      <td>1951.0</td>\n",
       "      <td>1.948</td>\n",
       "      <td>0.297</td>\n",
       "      <td>0.3940</td>\n",
       "      <td>1.550</td>\n",
       "      <td>0.564</td>\n",
       "    </tr>\n",
       "    <tr>\n",
       "      <th>4</th>\n",
       "      <td>1952.0</td>\n",
       "      <td>2.265</td>\n",
       "      <td>0.310</td>\n",
       "      <td>0.3559</td>\n",
       "      <td>1.802</td>\n",
       "      <td>0.574</td>\n",
       "    </tr>\n",
       "  </tbody>\n",
       "</table>\n",
       "</div>"
      ],
      "text/plain": [
       "     YEAR      Y      W       R      L      K\n",
       "0  1948.0  1.214  0.243  0.1454  1.415  0.612\n",
       "1  1949.0  1.354  0.260  0.2181  1.384  0.559\n",
       "2  1950.0  1.569  0.278  0.3157  1.388  0.573\n",
       "3  1951.0  1.948  0.297  0.3940  1.550  0.564\n",
       "4  1952.0  2.265  0.310  0.3559  1.802  0.574"
      ]
     },
     "execution_count": 13,
     "metadata": {},
     "output_type": "execute_result"
    }
   ],
   "source": [
    "df.head()"
   ]
  },
  {
   "cell_type": "markdown",
   "metadata": {},
   "source": [
    "We can also load the same file from a given URL:"
   ]
  },
  {
   "cell_type": "code",
   "execution_count": 14,
   "metadata": {},
   "outputs": [],
   "source": [
    "sas_url = 'http://www.principlesofeconometrics.com/sas/airline.sas7bdat'"
   ]
  },
  {
   "cell_type": "code",
   "execution_count": 15,
   "metadata": {},
   "outputs": [],
   "source": [
    "df = pd.read_sas(sas_url)"
   ]
  },
  {
   "cell_type": "code",
   "execution_count": 16,
   "metadata": {},
   "outputs": [
    {
     "data": {
      "text/html": [
       "<div>\n",
       "<style scoped>\n",
       "    .dataframe tbody tr th:only-of-type {\n",
       "        vertical-align: middle;\n",
       "    }\n",
       "\n",
       "    .dataframe tbody tr th {\n",
       "        vertical-align: top;\n",
       "    }\n",
       "\n",
       "    .dataframe thead th {\n",
       "        text-align: right;\n",
       "    }\n",
       "</style>\n",
       "<table border=\"1\" class=\"dataframe\">\n",
       "  <thead>\n",
       "    <tr style=\"text-align: right;\">\n",
       "      <th></th>\n",
       "      <th>YEAR</th>\n",
       "      <th>Y</th>\n",
       "      <th>W</th>\n",
       "      <th>R</th>\n",
       "      <th>L</th>\n",
       "      <th>K</th>\n",
       "    </tr>\n",
       "  </thead>\n",
       "  <tbody>\n",
       "    <tr>\n",
       "      <th>0</th>\n",
       "      <td>1948.0</td>\n",
       "      <td>1.214</td>\n",
       "      <td>0.243</td>\n",
       "      <td>0.1454</td>\n",
       "      <td>1.415</td>\n",
       "      <td>0.612</td>\n",
       "    </tr>\n",
       "    <tr>\n",
       "      <th>1</th>\n",
       "      <td>1949.0</td>\n",
       "      <td>1.354</td>\n",
       "      <td>0.260</td>\n",
       "      <td>0.2181</td>\n",
       "      <td>1.384</td>\n",
       "      <td>0.559</td>\n",
       "    </tr>\n",
       "    <tr>\n",
       "      <th>2</th>\n",
       "      <td>1950.0</td>\n",
       "      <td>1.569</td>\n",
       "      <td>0.278</td>\n",
       "      <td>0.3157</td>\n",
       "      <td>1.388</td>\n",
       "      <td>0.573</td>\n",
       "    </tr>\n",
       "    <tr>\n",
       "      <th>3</th>\n",
       "      <td>1951.0</td>\n",
       "      <td>1.948</td>\n",
       "      <td>0.297</td>\n",
       "      <td>0.3940</td>\n",
       "      <td>1.550</td>\n",
       "      <td>0.564</td>\n",
       "    </tr>\n",
       "    <tr>\n",
       "      <th>4</th>\n",
       "      <td>1952.0</td>\n",
       "      <td>2.265</td>\n",
       "      <td>0.310</td>\n",
       "      <td>0.3559</td>\n",
       "      <td>1.802</td>\n",
       "      <td>0.574</td>\n",
       "    </tr>\n",
       "  </tbody>\n",
       "</table>\n",
       "</div>"
      ],
      "text/plain": [
       "     YEAR      Y      W       R      L      K\n",
       "0  1948.0  1.214  0.243  0.1454  1.415  0.612\n",
       "1  1949.0  1.354  0.260  0.2181  1.384  0.559\n",
       "2  1950.0  1.569  0.278  0.3157  1.388  0.573\n",
       "3  1951.0  1.948  0.297  0.3940  1.550  0.564\n",
       "4  1952.0  2.265  0.310  0.3559  1.802  0.574"
      ]
     },
     "execution_count": 16,
     "metadata": {},
     "output_type": "execute_result"
    }
   ],
   "source": [
    "df.head()"
   ]
  },
  {
   "cell_type": "markdown",
   "metadata": {},
   "source": [
    "Plot a variable:"
   ]
  },
  {
   "cell_type": "code",
   "execution_count": 17,
   "metadata": {},
   "outputs": [
    {
     "data": {
      "text/plain": [
       "<AxesSubplot:>"
      ]
     },
     "execution_count": 17,
     "metadata": {},
     "output_type": "execute_result"
    },
    {
     "data": {
      "image/png": "[encoded data removed]",
      "text/plain": [
       "<Figure size 432x288 with 1 Axes>"
      ]
     },
     "metadata": {
      "needs_background": "light"
     },
     "output_type": "display_data"
    }
   ],
   "source": [
    "df.loc[:,'Y'].plot()"
   ]
  },
  {
   "cell_type": "markdown",
   "metadata": {},
   "source": [
    "![green-divider](https://user-images.githubusercontent.com/7065401/52071924-c003ad80-2562-11e9-8297-1c6595f8a7ff.png)\n",
    "\n",
    "## STATA files\n",
    "\n",
    "The top-level function `read_stata` will read a DTA file and return either a DataFrame or a **StataReader** that can be used to read the file incrementally.\n",
    "\n",
    "We are going to load the `broiler.dta` file into a pandas `DataFrame` using the `read_stata` method."
   ]
  },
  {
   "cell_type": "code",
   "execution_count": 18,
   "metadata": {},
   "outputs": [
    {
     "name": "stderr",
     "output_type": "stream",
     "text": [
      "'cat' is not recognized as an internal or external command,\n",
      "operable program or batch file.\n"
     ]
    }
   ],
   "source": [
    "!cat broiler.dta"
   ]
  },
  {
   "cell_type": "code",
   "execution_count": 19,
   "metadata": {},
   "outputs": [],
   "source": [
    "df = pd.read_stata('broiler.dta')"
   ]
  },
  {
   "cell_type": "code",
   "execution_count": 20,
   "metadata": {},
   "outputs": [
    {
     "data": {
      "text/html": [
       "<div>\n",
       "<style scoped>\n",
       "    .dataframe tbody tr th:only-of-type {\n",
       "        vertical-align: middle;\n",
       "    }\n",
       "\n",
       "    .dataframe tbody tr th {\n",
       "        vertical-align: top;\n",
       "    }\n",
       "\n",
       "    .dataframe thead th {\n",
       "        text-align: right;\n",
       "    }\n",
       "</style>\n",
       "<table border=\"1\" class=\"dataframe\">\n",
       "  <thead>\n",
       "    <tr style=\"text-align: right;\">\n",
       "      <th></th>\n",
       "      <th>year</th>\n",
       "      <th>q</th>\n",
       "      <th>y</th>\n",
       "      <th>pchick</th>\n",
       "      <th>pbeef</th>\n",
       "      <th>pcor</th>\n",
       "      <th>pf</th>\n",
       "      <th>cpi</th>\n",
       "      <th>qproda</th>\n",
       "      <th>pop</th>\n",
       "      <th>meatex</th>\n",
       "      <th>time</th>\n",
       "    </tr>\n",
       "  </thead>\n",
       "  <tbody>\n",
       "    <tr>\n",
       "      <th>0</th>\n",
       "      <td>1950.0</td>\n",
       "      <td>14.3</td>\n",
       "      <td>7863.0</td>\n",
       "      <td>69.500000</td>\n",
       "      <td>31.200001</td>\n",
       "      <td>59.799999</td>\n",
       "      <td>NaN</td>\n",
       "      <td>24.100000</td>\n",
       "      <td>2628500.0</td>\n",
       "      <td>151.684006</td>\n",
       "      <td>NaN</td>\n",
       "      <td>41.0</td>\n",
       "    </tr>\n",
       "    <tr>\n",
       "      <th>1</th>\n",
       "      <td>1951.0</td>\n",
       "      <td>15.1</td>\n",
       "      <td>7953.0</td>\n",
       "      <td>72.900002</td>\n",
       "      <td>36.500000</td>\n",
       "      <td>72.099998</td>\n",
       "      <td>NaN</td>\n",
       "      <td>26.000000</td>\n",
       "      <td>2843000.0</td>\n",
       "      <td>154.287003</td>\n",
       "      <td>NaN</td>\n",
       "      <td>42.0</td>\n",
       "    </tr>\n",
       "    <tr>\n",
       "      <th>2</th>\n",
       "      <td>1952.0</td>\n",
       "      <td>15.3</td>\n",
       "      <td>8071.0</td>\n",
       "      <td>73.099998</td>\n",
       "      <td>36.200001</td>\n",
       "      <td>71.300003</td>\n",
       "      <td>NaN</td>\n",
       "      <td>26.500000</td>\n",
       "      <td>2851200.0</td>\n",
       "      <td>156.953995</td>\n",
       "      <td>NaN</td>\n",
       "      <td>43.0</td>\n",
       "    </tr>\n",
       "    <tr>\n",
       "      <th>3</th>\n",
       "      <td>1953.0</td>\n",
       "      <td>15.2</td>\n",
       "      <td>8319.0</td>\n",
       "      <td>71.300003</td>\n",
       "      <td>28.500000</td>\n",
       "      <td>62.700001</td>\n",
       "      <td>NaN</td>\n",
       "      <td>26.700001</td>\n",
       "      <td>2953900.0</td>\n",
       "      <td>159.565002</td>\n",
       "      <td>NaN</td>\n",
       "      <td>44.0</td>\n",
       "    </tr>\n",
       "    <tr>\n",
       "      <th>4</th>\n",
       "      <td>1954.0</td>\n",
       "      <td>15.8</td>\n",
       "      <td>8276.0</td>\n",
       "      <td>64.400002</td>\n",
       "      <td>27.400000</td>\n",
       "      <td>63.400002</td>\n",
       "      <td>NaN</td>\n",
       "      <td>26.900000</td>\n",
       "      <td>3099700.0</td>\n",
       "      <td>162.391006</td>\n",
       "      <td>NaN</td>\n",
       "      <td>45.0</td>\n",
       "    </tr>\n",
       "  </tbody>\n",
       "</table>\n",
       "</div>"
      ],
      "text/plain": [
       "     year     q       y     pchick      pbeef       pcor  pf        cpi  \\\n",
       "0  1950.0  14.3  7863.0  69.500000  31.200001  59.799999 NaN  24.100000   \n",
       "1  1951.0  15.1  7953.0  72.900002  36.500000  72.099998 NaN  26.000000   \n",
       "2  1952.0  15.3  8071.0  73.099998  36.200001  71.300003 NaN  26.500000   \n",
       "3  1953.0  15.2  8319.0  71.300003  28.500000  62.700001 NaN  26.700001   \n",
       "4  1954.0  15.8  8276.0  64.400002  27.400000  63.400002 NaN  26.900000   \n",
       "\n",
       "      qproda         pop  meatex  time  \n",
       "0  2628500.0  151.684006     NaN  41.0  \n",
       "1  2843000.0  154.287003     NaN  42.0  \n",
       "2  2851200.0  156.953995     NaN  43.0  \n",
       "3  2953900.0  159.565002     NaN  44.0  \n",
       "4  3099700.0  162.391006     NaN  45.0  "
      ]
     },
     "execution_count": 20,
     "metadata": {},
     "output_type": "execute_result"
    }
   ],
   "source": [
    "df.head()"
   ]
  },
  {
   "cell_type": "markdown",
   "metadata": {},
   "source": [
    "We can also load the same file from a given URL:"
   ]
  },
  {
   "cell_type": "code",
   "execution_count": 21,
   "metadata": {},
   "outputs": [],
   "source": [
    "stata_url = 'http://www.principlesofeconometrics.com/stata/broiler.dta'"
   ]
  },
  {
   "cell_type": "code",
   "execution_count": 22,
   "metadata": {},
   "outputs": [],
   "source": [
    "df = pd.read_stata(stata_url)"
   ]
  },
  {
   "cell_type": "code",
   "execution_count": 23,
   "metadata": {},
   "outputs": [
    {
     "data": {
      "text/html": [
       "<div>\n",
       "<style scoped>\n",
       "    .dataframe tbody tr th:only-of-type {\n",
       "        vertical-align: middle;\n",
       "    }\n",
       "\n",
       "    .dataframe tbody tr th {\n",
       "        vertical-align: top;\n",
       "    }\n",
       "\n",
       "    .dataframe thead th {\n",
       "        text-align: right;\n",
       "    }\n",
       "</style>\n",
       "<table border=\"1\" class=\"dataframe\">\n",
       "  <thead>\n",
       "    <tr style=\"text-align: right;\">\n",
       "      <th></th>\n",
       "      <th>year</th>\n",
       "      <th>q</th>\n",
       "      <th>y</th>\n",
       "      <th>pchick</th>\n",
       "      <th>pbeef</th>\n",
       "      <th>pcor</th>\n",
       "      <th>pf</th>\n",
       "      <th>cpi</th>\n",
       "      <th>qproda</th>\n",
       "      <th>pop</th>\n",
       "      <th>meatex</th>\n",
       "      <th>time</th>\n",
       "    </tr>\n",
       "  </thead>\n",
       "  <tbody>\n",
       "    <tr>\n",
       "      <th>0</th>\n",
       "      <td>1950.0</td>\n",
       "      <td>14.3</td>\n",
       "      <td>7863.0</td>\n",
       "      <td>69.500000</td>\n",
       "      <td>31.200001</td>\n",
       "      <td>59.799999</td>\n",
       "      <td>NaN</td>\n",
       "      <td>24.100000</td>\n",
       "      <td>2628500.0</td>\n",
       "      <td>151.684006</td>\n",
       "      <td>NaN</td>\n",
       "      <td>41.0</td>\n",
       "    </tr>\n",
       "    <tr>\n",
       "      <th>1</th>\n",
       "      <td>1951.0</td>\n",
       "      <td>15.1</td>\n",
       "      <td>7953.0</td>\n",
       "      <td>72.900002</td>\n",
       "      <td>36.500000</td>\n",
       "      <td>72.099998</td>\n",
       "      <td>NaN</td>\n",
       "      <td>26.000000</td>\n",
       "      <td>2843000.0</td>\n",
       "      <td>154.287003</td>\n",
       "      <td>NaN</td>\n",
       "      <td>42.0</td>\n",
       "    </tr>\n",
       "    <tr>\n",
       "      <th>2</th>\n",
       "      <td>1952.0</td>\n",
       "      <td>15.3</td>\n",
       "      <td>8071.0</td>\n",
       "      <td>73.099998</td>\n",
       "      <td>36.200001</td>\n",
       "      <td>71.300003</td>\n",
       "      <td>NaN</td>\n",
       "      <td>26.500000</td>\n",
       "      <td>2851200.0</td>\n",
       "      <td>156.953995</td>\n",
       "      <td>NaN</td>\n",
       "      <td>43.0</td>\n",
       "    </tr>\n",
       "    <tr>\n",
       "      <th>3</th>\n",
       "      <td>1953.0</td>\n",
       "      <td>15.2</td>\n",
       "      <td>8319.0</td>\n",
       "      <td>71.300003</td>\n",
       "      <td>28.500000</td>\n",
       "      <td>62.700001</td>\n",
       "      <td>NaN</td>\n",
       "      <td>26.700001</td>\n",
       "      <td>2953900.0</td>\n",
       "      <td>159.565002</td>\n",
       "      <td>NaN</td>\n",
       "      <td>44.0</td>\n",
       "    </tr>\n",
       "    <tr>\n",
       "      <th>4</th>\n",
       "      <td>1954.0</td>\n",
       "      <td>15.8</td>\n",
       "      <td>8276.0</td>\n",
       "      <td>64.400002</td>\n",
       "      <td>27.400000</td>\n",
       "      <td>63.400002</td>\n",
       "      <td>NaN</td>\n",
       "      <td>26.900000</td>\n",
       "      <td>3099700.0</td>\n",
       "      <td>162.391006</td>\n",
       "      <td>NaN</td>\n",
       "      <td>45.0</td>\n",
       "    </tr>\n",
       "  </tbody>\n",
       "</table>\n",
       "</div>"
      ],
      "text/plain": [
       "     year     q       y     pchick      pbeef       pcor  pf        cpi  \\\n",
       "0  1950.0  14.3  7863.0  69.500000  31.200001  59.799999 NaN  24.100000   \n",
       "1  1951.0  15.1  7953.0  72.900002  36.500000  72.099998 NaN  26.000000   \n",
       "2  1952.0  15.3  8071.0  73.099998  36.200001  71.300003 NaN  26.500000   \n",
       "3  1953.0  15.2  8319.0  71.300003  28.500000  62.700001 NaN  26.700001   \n",
       "4  1954.0  15.8  8276.0  64.400002  27.400000  63.400002 NaN  26.900000   \n",
       "\n",
       "      qproda         pop  meatex  time  \n",
       "0  2628500.0  151.684006     NaN  41.0  \n",
       "1  2843000.0  154.287003     NaN  42.0  \n",
       "2  2851200.0  156.953995     NaN  43.0  \n",
       "3  2953900.0  159.565002     NaN  44.0  \n",
       "4  3099700.0  162.391006     NaN  45.0  "
      ]
     },
     "execution_count": 23,
     "metadata": {},
     "output_type": "execute_result"
    }
   ],
   "source": [
    "df.head()"
   ]
  },
  {
   "cell_type": "markdown",
   "metadata": {},
   "source": [
    "Plot the Consumer Price Index (CPI):"
   ]
  },
  {
   "cell_type": "code",
   "execution_count": 24,
   "metadata": {},
   "outputs": [
    {
     "data": {
      "text/plain": [
       "<AxesSubplot:>"
      ]
     },
     "execution_count": 24,
     "metadata": {},
     "output_type": "execute_result"
    },
    {
     "data": {
      "image/png": "[encoded data removed]",
      "text/plain": [
       "<Figure size 432x288 with 1 Axes>"
      ]
     },
     "metadata": {
      "needs_background": "light"
     },
     "output_type": "display_data"
    }
   ],
   "source": [
    "df.loc[:,'cpi'].plot()"
   ]
  },
  {
   "cell_type": "markdown",
   "metadata": {},
   "source": [
    "![green-divider](https://user-images.githubusercontent.com/7065401/52071924-c003ad80-2562-11e9-8297-1c6595f8a7ff.png)\n",
    "\n",
    "## Google BigQuery\n",
    "\n",
    "Google BigQuery data can be loaded using pandas `read_gbq` method.\n",
    "\n",
    "This method requires the `pandas-gbq` package and a _BigQuery project_ (you can create a new one from [here](https://console.cloud.google.com/bigquery))."
   ]
  },
  {
   "cell_type": "code",
   "execution_count": 25,
   "metadata": {
    "scrolled": true
   },
   "outputs": [
    {
     "name": "stdout",
     "output_type": "stream",
     "text": [
      "Collecting pandas_gbq\n",
      "  Downloading pandas_gbq-0.15.0-py3-none-any.whl (25 kB)\n",
      "Requirement already satisfied: setuptools in c:\\python39\\lib\\site-packages (from pandas_gbq) (56.0.0)\n",
      "Collecting google-auth-oauthlib\n",
      "  Downloading google_auth_oauthlib-0.4.6-py2.py3-none-any.whl (18 kB)\n",
      "Collecting google-cloud-bigquery[bqstorage,pandas]!=2.4.*,<3.0.0dev,>=1.11.1\n",
      "  Downloading google_cloud_bigquery-2.30.1-py2.py3-none-any.whl (203 kB)\n",
      "Collecting pydata-google-auth\n",
      "  Downloading pydata_google_auth-1.2.0-py2.py3-none-any.whl (13 kB)\n",
      "Collecting google-auth\n",
      "  Downloading google_auth-2.3.3-py2.py3-none-any.whl (155 kB)\n",
      "Requirement already satisfied: pandas>=0.23.2 in c:\\python39\\lib\\site-packages (from pandas_gbq) (1.3.3)\n",
      "Collecting grpcio<2.0dev,>=1.38.1\n",
      "  Downloading grpcio-1.41.1-cp39-cp39-win_amd64.whl (3.2 MB)\n",
      "Requirement already satisfied: packaging>=14.3 in c:\\python39\\lib\\site-packages (from google-cloud-bigquery[bqstorage,pandas]!=2.4.*,<3.0.0dev,>=1.11.1->pandas_gbq) (21.0)\n",
      "Collecting google-api-core[grpc]<3.0.0dev,>=1.29.0\n",
      "  Downloading google_api_core-2.2.2-py2.py3-none-any.whl (95 kB)\n",
      "Collecting google-cloud-core<3.0.0dev,>=1.4.1\n",
      "  Downloading google_cloud_core-2.1.0-py2.py3-none-any.whl (27 kB)\n",
      "Requirement already satisfied: requests<3.0.0dev,>=2.18.0 in c:\\python39\\lib\\site-packages (from google-cloud-bigquery[bqstorage,pandas]!=2.4.*,<3.0.0dev,>=1.11.1->pandas_gbq) (2.25.1)\n",
      "Collecting proto-plus>=1.10.0\n",
      "  Downloading proto_plus-1.19.7-py3-none-any.whl (45 kB)\n",
      "Requirement already satisfied: python-dateutil<3.0dev,>=2.7.2 in c:\\python39\\lib\\site-packages (from google-cloud-bigquery[bqstorage,pandas]!=2.4.*,<3.0.0dev,>=1.11.1->pandas_gbq) (2.8.2)\n",
      "Collecting protobuf>=3.12.0\n",
      "  Downloading protobuf-3.19.1-cp39-cp39-win_amd64.whl (895 kB)\n",
      "Collecting google-resumable-media<3.0dev,>=0.6.0\n",
      "  Downloading google_resumable_media-2.1.0-py2.py3-none-any.whl (75 kB)\n",
      "Collecting pyarrow<7.0dev,>=3.0.0\n",
      "  Downloading pyarrow-6.0.0-cp39-cp39-win_amd64.whl (15.5 MB)\n",
      "Collecting google-cloud-bigquery-storage<3.0.0dev,>=2.0.0\n",
      "  Downloading google_cloud_bigquery_storage-2.9.1-py2.py3-none-any.whl (170 kB)\n",
      "Requirement already satisfied: pytz>=2017.3 in c:\\python39\\lib\\site-packages (from pandas>=0.23.2->pandas_gbq) (2021.1)\n",
      "Requirement already satisfied: numpy>=1.17.3 in c:\\python39\\lib\\site-packages (from pandas>=0.23.2->pandas_gbq) (1.21.2)\n",
      "Requirement already satisfied: six>=1.9.0 in c:\\python39\\lib\\site-packages (from google-auth->pandas_gbq) (1.16.0)\n",
      "Collecting rsa<5,>=3.1.4\n",
      "  Downloading rsa-4.7.2-py3-none-any.whl (34 kB)\n",
      "Collecting cachetools<5.0,>=2.0.0\n",
      "  Downloading cachetools-4.2.4-py3-none-any.whl (10 kB)\n",
      "Collecting pyasn1-modules>=0.2.1\n",
      "  Downloading pyasn1_modules-0.2.8-py2.py3-none-any.whl (155 kB)\n",
      "Collecting requests-oauthlib>=0.7.0\n",
      "  Using cached requests_oauthlib-1.3.0-py2.py3-none-any.whl (23 kB)\n",
      "Collecting googleapis-common-protos<2.0dev,>=1.52.0\n",
      "  Downloading googleapis_common_protos-1.53.0-py2.py3-none-any.whl (198 kB)\n",
      "Collecting grpcio-status<2.0dev,>=1.33.2\n",
      "  Downloading grpcio_status-1.41.1-py3-none-any.whl (9.2 kB)\n",
      "Collecting libcst>=0.2.5\n",
      "  Downloading libcst-0.3.21-py3-none-any.whl (514 kB)\n",
      "Collecting google-crc32c<2.0dev,>=1.0\n",
      "  Downloading google_crc32c-1.3.0-cp39-cp39-win_amd64.whl (27 kB)\n",
      "Requirement already satisfied: pyparsing>=2.0.2 in c:\\python39\\lib\\site-packages (from packaging>=14.3->google-cloud-bigquery[bqstorage,pandas]!=2.4.*,<3.0.0dev,>=1.11.1->pandas_gbq) (2.4.7)\n",
      "Collecting pyasn1<0.5.0,>=0.4.6\n",
      "  Downloading pyasn1-0.4.8-py2.py3-none-any.whl (77 kB)\n",
      "Requirement already satisfied: certifi>=2017.4.17 in c:\\python39\\lib\\site-packages (from requests<3.0.0dev,>=2.18.0->google-cloud-bigquery[bqstorage,pandas]!=2.4.*,<3.0.0dev,>=1.11.1->pandas_gbq) (2021.5.30)\n",
      "Requirement already satisfied: idna<3,>=2.5 in c:\\python39\\lib\\site-packages (from requests<3.0.0dev,>=2.18.0->google-cloud-bigquery[bqstorage,pandas]!=2.4.*,<3.0.0dev,>=1.11.1->pandas_gbq) (2.10)\n",
      "Requirement already satisfied: chardet<5,>=3.0.2 in c:\\python39\\lib\\site-packages (from requests<3.0.0dev,>=2.18.0->google-cloud-bigquery[bqstorage,pandas]!=2.4.*,<3.0.0dev,>=1.11.1->pandas_gbq) (4.0.0)\n",
      "Requirement already satisfied: urllib3<1.27,>=1.21.1 in c:\\python39\\lib\\site-packages (from requests<3.0.0dev,>=2.18.0->google-cloud-bigquery[bqstorage,pandas]!=2.4.*,<3.0.0dev,>=1.11.1->pandas_gbq) (1.26.5)\n",
      "Collecting oauthlib>=3.0.0\n",
      "  Using cached oauthlib-3.1.1-py2.py3-none-any.whl (146 kB)\n",
      "Collecting pyyaml>=5.2\n",
      "  Downloading PyYAML-6.0-cp39-cp39-win_amd64.whl (151 kB)\n",
      "Collecting typing-inspect>=0.4.0\n",
      "  Downloading typing_inspect-0.7.1-py3-none-any.whl (8.4 kB)\n",
      "Collecting typing-extensions>=3.7.4.2\n",
      "  Downloading typing_extensions-3.10.0.2-py3-none-any.whl (26 kB)\n",
      "Collecting mypy-extensions>=0.3.0\n",
      "  Downloading mypy_extensions-0.4.3-py2.py3-none-any.whl (4.5 kB)\n",
      "Installing collected packages: pyasn1, rsa, pyasn1-modules, protobuf, cachetools, typing-extensions, mypy-extensions, grpcio, googleapis-common-protos, google-auth, typing-inspect, pyyaml, oauthlib, grpcio-status, google-crc32c, google-api-core, requests-oauthlib, proto-plus, libcst, google-resumable-media, google-cloud-core, pyarrow, google-cloud-bigquery-storage, google-cloud-bigquery, google-auth-oauthlib, pydata-google-auth, pandas-gbq\n",
      "Successfully installed cachetools-4.2.4 google-api-core-2.2.2 google-auth-2.3.3 google-auth-oauthlib-0.4.6 google-cloud-bigquery-2.30.1 google-cloud-bigquery-storage-2.9.1 google-cloud-core-2.1.0 google-crc32c-1.3.0 google-resumable-media-2.1.0 googleapis-common-protos-1.53.0 grpcio-1.41.1 grpcio-status-1.41.1 libcst-0.3.21 mypy-extensions-0.4.3 oauthlib-3.1.1 pandas-gbq-0.15.0 proto-plus-1.19.7 protobuf-3.19.1 pyarrow-6.0.0 pyasn1-0.4.8 pyasn1-modules-0.2.8 pydata-google-auth-1.2.0 pyyaml-6.0 requests-oauthlib-1.3.0 rsa-4.7.2 typing-extensions-3.10.0.2 typing-inspect-0.7.1\n"
     ]
    }
   ],
   "source": [
    "!pip install pandas_gbq"
   ]
  },
  {
   "cell_type": "code",
   "execution_count": 26,
   "metadata": {},
   "outputs": [],
   "source": [
    "import pandas_gbq"
   ]
  },
  {
   "cell_type": "code",
   "execution_count": 27,
   "metadata": {
    "scrolled": true
   },
   "outputs": [
    {
     "name": "stdout",
     "output_type": "stream",
     "text": [
      "Please visit this URL to authorize this application: https://accounts.google.com/o/oauth2/auth?response_type=code&client_id=725825577420-unm2gnkiprugilg743tkbig250f4sfsj.apps.googleusercontent.com&redirect_uri=urn%3Aietf%3Awg%3Aoauth%3A2.0%3Aoob&scope=https%3A%2F%2Fwww.googleapis.com%2Fauth%2Fbigquery&state=j3dd2lygJxLsIOilF1HKNSjzkzx4jo&prompt=consent&access_type=offline\n"
     ]
    }
   ],
   "source": [
    "sql = \"\"\"\n",
    "    SELECT name, SUM(number) as count\n",
    "    FROM `bigquery-public-data.usa_names.usa_1910_current`\n",
    "    GROUP BY name\n",
    "    ORDER BY count DESC\n",
    "    LIMIT 10\n",
    "\"\"\"\n",
    "\n",
    "pandas_gbq.read_gbq(sql,\n",
    "                    project_id='MY_PROJECT_ID')"
   ]
  },
  {
   "cell_type": "markdown",
   "metadata": {},
   "source": [
    "![purple-divider](https://user-images.githubusercontent.com/7065401/52071927-c1cd7100-2562-11e9-908a-dde91ba14e59.png)"
   ]
  },
  {
   "cell_type": "markdown",
   "metadata": {},
   "source": []
  }
 ],
 "metadata": {
  "interpreter": {
   "hash": "63fd5069d213b44bf678585dea6b12cceca9941eaf7f819626cde1f2670de90d"
  },
  "kernelspec": {
   "display_name": "Python 3.9.5 64-bit",
   "name": "python3"
  },
  "language_info": {
   "codemirror_mode": {
    "name": "ipython",
    "version": 3
   },
   "file_extension": ".py",
   "mimetype": "text/x-python",
   "name": "python",
   "nbconvert_exporter": "python",
   "pygments_lexer": "ipython3",
   "version": "3.9.5"
  }
 },
 "nbformat": 4,
 "nbformat_minor": 2
}
